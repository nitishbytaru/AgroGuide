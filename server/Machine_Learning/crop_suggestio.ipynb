{
 "cells": [
  {
   "cell_type": "code",
   "execution_count": null,
   "metadata": {},
   "outputs": [],
   "source": [
    "import pandas as pd\n",
    "from sklearn.preprocessing import LabelEncoder, StandardScaler\n",
    "from sklearn.model_selection import train_test_split\n",
    "from sklearn.ensemble import RandomForestClassifier\n",
    "from sklearn.metrics import accuracy_score\n",
    "import joblib\n",
    "\n",
    "# Load the dataset\n",
    "df = pd.read_csv(\"Crop_recommendation.csv\")\n",
    "\n",
    "# Check for missing values\n",
    "df = df.dropna()\n",
    "\n",
    "# Define features and target\n",
    "features = [\"N\", \"P\", \"K\", \"temperature\", \"humidity\", \"ph\", \"rainfall\"]\n",
    "y = df[\"label\"]\n",
    "\n",
    "# Encode labels\n",
    "label_encoder = LabelEncoder()\n",
    "y = label_encoder.fit_transform(y)\n",
    "\n",
    "# Standardize features\n",
    "scaler = StandardScaler()\n",
    "df[features] = scaler.fit_transform(df[features])\n",
    "\n",
    "# Split dataset\n",
    "X_train, X_test, y_train, y_test = train_test_split(df[features], y, test_size=0.2, random_state=42)\n",
    "\n",
    "# Train model\n",
    "model = RandomForestClassifier(n_estimators=100, random_state=42)\n",
    "model.fit(X_train, y_train)\n",
    "\n",
    "# Evaluate model\n",
    "y_pred = model.predict(X_test)\n",
    "accuracy = accuracy_score(y_test, y_pred)\n",
    "print(f\"Model Accuracy: {accuracy * 100:.2f}%\")\n",
    "\n",
    "# Save model and encoders\n",
    "joblib.dump(model, \"crop_prediction_model.pkl\")\n",
    "joblib.dump(label_encoder, \"label_encoder.pkl\")\n",
    "joblib.dump(scaler, \"scaler.pkl\")\n",
    "print(\"Model, label encoder, and scaler saved successfully.\")\n",
    "\n",
    "# Manually input test values\n",
    "manual_input = {\n",
    "    \"N\": 5,\n",
    "    \"P\": 62,\n",
    "    \"K\": 23,\n",
    "    \"temperature\": 27,\n",
    "    \"humidity\": 66,\n",
    "    \"ph\": 4.2,\n",
    "    \"rainfall\": 148\n",
    "}\n",
    "\n",
    "# Convert input to DataFrame and standardize it\n",
    "manual_input_df = pd.DataFrame([manual_input])\n",
    "manual_input_scaled = scaler.transform(manual_input_df)\n",
    "\n",
    "# Make prediction\n",
    "predicted_label = model.predict(manual_input_scaled)[0]\n",
    "predicted_crop = label_encoder.inverse_transform([predicted_label])[0]\n",
    "print(\"Manual Test Prediction:\", predicted_crop)"
   ]
  },
  {
   "cell_type": "code",
   "execution_count": null,
   "metadata": {},
   "outputs": [],
   "source": [
    "newdf = pd.read_csv(\"Crop_recommendation.csv\")\n",
    "\n",
    "newdf.head()"
   ]
  },
  {
   "cell_type": "code",
   "execution_count": null,
   "metadata": {},
   "outputs": [],
   "source": [
    "# Get unique values in the 'label' column\n",
    "unique_labels = newdf[\"label\"].unique()\n",
    "label_count = newdf[\"label\"].nunique()\n",
    "\n",
    "print(f\"Number of unique crops: {label_count}\")\n",
    "print(\"List of unique crops:\")\n",
    "print(unique_labels)"
   ]
  }
 ],
 "metadata": {
  "language_info": {
   "name": "python"
  }
 },
 "nbformat": 4,
 "nbformat_minor": 2
}
